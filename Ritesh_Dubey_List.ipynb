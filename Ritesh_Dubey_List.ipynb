{
 "cells": [
  {
   "cell_type": "code",
   "execution_count": 67,
   "metadata": {},
   "outputs": [
    {
     "name": "stdout",
     "output_type": "stream",
     "text": [
      "100\n"
     ]
    }
   ],
   "source": [
    "#Write a Python program to find the sum of all elements in a list using loop.\n",
    "#Input:- [10,20,30,40]\n",
    "#Output:- 100\n",
    "def add_li(my_li):\n",
    "    res=0\n",
    "    for i in my_li:\n",
    "        res=res+i\n",
    "    print (res)\n",
    "my_li=[10,20,30,40]\n",
    "add_li(my_li)"
   ]
  },
  {
   "cell_type": "code",
   "execution_count": 16,
   "metadata": {},
   "outputs": [
    {
     "name": "stdout",
     "output_type": "stream",
     "text": [
      "240000\n"
     ]
    }
   ],
   "source": [
    "#Write a Python program to find the multiplication of all elements in a list using loop.\n",
    "#Input:- [10,20,30,40]\n",
    "#Output:- 240000\n",
    "def mul_li(my_li):\n",
    "    res=1\n",
    "    for i in my_li:\n",
    "        res=res*i\n",
    "    print (res)\n",
    "my_li=[10,20,30,40]\n",
    "mul_li(my_li)\n"
   ]
  },
  {
   "cell_type": "code",
   "execution_count": 17,
   "metadata": {},
   "outputs": [
    {
     "name": "stdout",
     "output_type": "stream",
     "text": [
      "2321\n"
     ]
    }
   ],
   "source": [
    "#Write a Python program to find the largest number from a list using loop.\n",
    "#Input:- [10,100,2321, 1,200,2]\n",
    "#Output:- 2321\n",
    "\n",
    "def find_large(my_li):\n",
    "    larg=my_li[0]\n",
    "    for i in my_li[1::]:\n",
    "        if i>larg:\n",
    "            larg=i\n",
    "    print (larg)\n",
    "\n",
    "my_li=[10,100,2321, 1,200,2]\n",
    "\n",
    "find_large(my_li)"
   ]
  },
  {
   "cell_type": "code",
   "execution_count": 18,
   "metadata": {},
   "outputs": [
    {
     "name": "stdout",
     "output_type": "stream",
     "text": [
      "1\n"
     ]
    }
   ],
   "source": [
    "#Write a Python program to find the smallest number from a list using loop.\n",
    "#Input:- [10,100,2321, 1,200,2]\n",
    "#Output:- 1\n",
    "def find_small(my_li):\n",
    "    sml=my_li[0]\n",
    "    for i in my_li[1::]:\n",
    "        if i<sml:\n",
    "            sml=i\n",
    "    print (sml)\n",
    "\n",
    "my_li=[10,100,2321, 1,200,2]\n",
    "\n",
    "find_small(my_li)"
   ]
  },
  {
   "cell_type": "code",
   "execution_count": 19,
   "metadata": {},
   "outputs": [
    {
     "name": "stdout",
     "output_type": "stream",
     "text": [
      "2\n"
     ]
    }
   ],
   "source": [
    "#Write a Python program to count the number of strings having length more than 2 and are palindrome in a list using loop.\n",
    "#Input:- ['ab', 'abc', 'aba', 'xyz', '1991']\n",
    "#Output:- 2\n",
    "def count_pallindrome_length_twoOrMore(li):\n",
    "    new_li=[x for x in li if len(x)>2 and x == x[::-1]]\n",
    "    print(len(new_li))\n",
    "\n",
    "li=['ab', 'abc', 'aba', 'xyz', '1991']\n",
    "count_pallindrome_length_twoOrMore(li)"
   ]
  },
  {
   "cell_type": "code",
   "execution_count": 20,
   "metadata": {},
   "outputs": [
    {
     "name": "stdout",
     "output_type": "stream",
     "text": [
      "[1, 2, 9, 10, 65, 80, 100, 298, 483, 9213, 49876]\n"
     ]
    }
   ],
   "source": [
    "#Write a Python program to sort a list in ascending order using loop.\n",
    "#Input:- [100,10,1,298,65,483,49876,2,80,9,9213]\n",
    "#Output:- [1,2,9,10,65,80,100,298,483,9213,49876]\n",
    "\n",
    "def sort_list(NumList):\n",
    "    for i in range (len(NumList)):\n",
    "        for j in range(i + 1, len(NumList)):\n",
    "            if(NumList[i] > NumList[j]):\n",
    "                temp = NumList[i]\n",
    "                NumList[i] = NumList[j]\n",
    "                NumList[j] = temp\n",
    "    print (NumList)\n",
    "\n",
    "NumList=[100,10,1,298,65,483,49876,2,80,9,9213]\n",
    "\n",
    "sort_list(NumList)"
   ]
  },
  {
   "cell_type": "code",
   "execution_count": 40,
   "metadata": {},
   "outputs": [
    {
     "name": "stdout",
     "output_type": "stream",
     "text": [
      "[(9, 1), (2, 3), (5, 4), (5, 5), (7, 6), (5, 9)]\n"
     ]
    }
   ],
   "source": [
    "#Write a Python program to get a sorted list in increasing order of last element in each tuple in a given list using loop.\n",
    "#Input:- [(5,4),(9,1),(2,3),(5,9),(7,6),(5,5)]\n",
    "#output:- [(9,1),(2,3),(5,4),(5,5),(7,6),(5,9)]\n",
    "\n",
    "li=[(5,4),(9,1),(2,3),(5,9),(7,6),(5,5)]\n",
    "length = len(li)  \n",
    "for i in range(0, length):     \n",
    "    for j in range(0, length-i-1):  \n",
    "        if (li[j][1] > li[j + 1][1]):  \n",
    "            temp = li[j]  \n",
    "            li[j]= li[j + 1]  \n",
    "            li[j + 1]= temp\n",
    "print (li)"
   ]
  },
  {
   "cell_type": "code",
   "execution_count": 57,
   "metadata": {},
   "outputs": [
    {
     "name": "stdout",
     "output_type": "stream",
     "text": [
      "[10, 1, 11, 29, 876, 768, 92]\n"
     ]
    }
   ],
   "source": [
    "#Write a Python program to remove fuplicate element from a list using loop.\n",
    "#Input:- [10,1,11,1,29,876,768,10,11,1,92,29,876]\n",
    "#Output:- [10,1,11,29,876,768,92]\n",
    "\n",
    "def remove_dup(li):\n",
    "    new_li=[]\n",
    "    for i in li:\n",
    "        if i not in new_li:\n",
    "            new_li.append(i)\n",
    "    print(new_li)   \n",
    "li=[10,1,11,1,29,876,768,10,11,1,92,29,876]\n",
    "remove_dup(li)"
   ]
  },
  {
   "cell_type": "code",
   "execution_count": 44,
   "metadata": {},
   "outputs": [
    {
     "name": "stdout",
     "output_type": "stream",
     "text": [
      "List is empty\n",
      "List is not empty\n"
     ]
    }
   ],
   "source": [
    "#Write a Python program to check a list is empty or not?\n",
    "#Input:- []\n",
    "#Output:- List is empty\n",
    "#Input:- [10,20,30]\n",
    "#Output:- List is not empty\n",
    "\n",
    "def is_empty(li):\n",
    "    if len(li)==0:\n",
    "        print (\"List is empty\")\n",
    "    else:\n",
    "        print (\"List is not empty\")\n",
    "li=[]\n",
    "is_empty(li)\n",
    "li1=[10,20,230]\n",
    "is_empty(li1)"
   ]
  },
  {
   "cell_type": "code",
   "execution_count": 50,
   "metadata": {},
   "outputs": [
    {
     "name": "stdout",
     "output_type": "stream",
     "text": [
      "[10, 10.2, (10+20j), 'Python', [10, 20], (10, 20)]\n"
     ]
    }
   ],
   "source": [
    "#Write a Python program to copy a list using loop.\n",
    "#inp_lst = [10,10.20,10+20j, 'Python', [10,20], (10,20)]\n",
    "#out_lst = [10,10.20,10+20j, 'Python', [10,20], (10,20)]\n",
    "\n",
    "def list_copy(li):\n",
    "    li_cop=[]\n",
    "    for i in li:\n",
    "        li_cop.append(i)\n",
    "    print (li_cop)\n",
    "\n",
    "li=[10,10.20,10+20j, 'Python', [10,20], (10,20)]\n",
    "list_copy(li)"
   ]
  },
  {
   "cell_type": "code",
   "execution_count": 49,
   "metadata": {},
   "outputs": [
    {
     "name": "stdout",
     "output_type": "stream",
     "text": [
      "['could', 'would', 'much', 'wood', 'chuck', 'woodchuck']\n"
     ]
    }
   ],
   "source": [
    "#Write a Python program to find the list of words that are longer than or equal to 4 from a given string.\n",
    "#Input:- 'How much wood would a woodchuck chuck if a woodchuck could chuck wood'\n",
    "#Output:- ['much', 'wood', 'would', 'woodchuck', 'chuck', 'could', 'could']\n",
    "#Note:- Duplicate should be avoided.\n",
    "def list_from_str(inp_str):  \n",
    "    print (list(set([x for x in Inp.split() if len(x)>=4])))\n",
    "Inp='How much wood would a woodchuck chuck if a woodchuck could chuck wood'\n",
    "list_from_str(Inp)"
   ]
  },
  {
   "cell_type": "code",
   "execution_count": 58,
   "metadata": {},
   "outputs": [
    {
     "data": {
      "text/plain": [
       "True"
      ]
     },
     "execution_count": 58,
     "metadata": {},
     "output_type": "execute_result"
    }
   ],
   "source": [
    "#Write a Python program which takes two list as input and returns True if they have at least 3 common elements.\n",
    "#inp_lst1 = [10,20,'Python', 10.20, 10+20j, [10,20,30], (10,20,30)]\n",
    "#inp_lst2 = [(10,20,30),1,20+3j,100.2, 10+20j, [10,20,30],'Python']\n",
    "#Output:- True\n",
    "\n",
    "def comp_list(l1,l2):\n",
    "    count=0\n",
    "    for i in l1:\n",
    "        for j in l2:\n",
    "            if i==j:\n",
    "                count=count+1\n",
    "    return count>=3\n",
    "        \n",
    "lst1 = [10,20,'Python', 10.20, 10+20j, [10,20,30], (10,20,30)]\n",
    "lst2 = [(10,20,30),1,20+3j,100.2, 10+20j, [10,20,30],'Python']\n",
    "comp_list(lst1,lst2)"
   ]
  },
  {
   "cell_type": "code",
   "execution_count": 59,
   "metadata": {},
   "outputs": [
    {
     "name": "stdout",
     "output_type": "stream",
     "text": [
      "[[0, 0, 0, 0], [0, 1, 2, 3], [0, 2, 4, 6], [0, 3, 6, 9]]\n",
      "[[0, 0, 0, 0], [0, 1, 2, 3], [0, 2, 4, 6], [0, 3, 6, 9]]\n"
     ]
    }
   ],
   "source": [
    "#Write a Python program to create a 4X4 2D matrix with below elements using loop and list comprehension both.\n",
    "#Output:- [[0,0,0,0],[0,1,2,3],[0,2,4,6],[0,3,6,9]]\n",
    "li=[]\n",
    "i=0\n",
    "for j,k,l in zip(range(0,4),range(0,7,2),range(0,10,3)):\n",
    "    li.append([i,j,k,l])\n",
    "print (li)\n",
    "\n",
    "li1=[[0,j,k,l] for j,k,l in zip(range(0,4),range(0,7,2),range(0,10,3))]\n",
    "print (li1)"
   ]
  },
  {
   "cell_type": "code",
   "execution_count": 66,
   "metadata": {},
   "outputs": [
    {
     "name": "stdout",
     "output_type": "stream",
     "text": [
      "[[[0, 0, 0, 0, 0, 0, 0], [0, 0, 0, 0, 0, 0, 0], [0, 0, 0, 0, 0, 0, 0], [0, 0, 0, 0, 0, 0, 0]], [[0, 0, 0, 0, 0, 0, 0], [1, 1, 1, 1, 1, 1, 1], [2, 2, 2, 2, 2, 2, 2], [3, 3, 3, 3, 3, 3, 3]], [[0, 0, 0, 0, 0, 0, 0], [2, 2, 2, 2, 2, 2, 2], [4, 4, 4, 4, 4, 4, 4], [6, 6, 6, 6, 6, 6, 6]]]\n"
     ]
    }
   ],
   "source": [
    "#Write a Python program to create a 3X4X6 3D matrix wiith below elements using loop\n",
    "#Output:- \n",
    "# [\n",
    "#     [[0,0,0,0,0,0],[0,0,0,0,0,0],[0,0,0,0,0,0],[0,0,0,0,0,0]],\n",
    "#     [[0,0,0,0,0,0],[1,1,1,1,1,1],[2,2,2,2,2,2],[3,3,3,3,3,3]],\n",
    "#     [[0,0,0,0,0,0],[2,2,2,2,2,2],[4,4,4,4,4,4],[6,6,6,6,6,6]]\n",
    "# ]\n",
    "li=[]\n",
    "li1=[]\n",
    "li2=[]\n",
    "li3=[]\n",
    "p=0\n",
    "for i,k in zip(range (0,4),range(0,7,2)):\n",
    "    new_li1=[]\n",
    "    new_li2=[]\n",
    "    new_li3=[]\n",
    "    for j in range (0,7):\n",
    "        new_li1.append(p)\n",
    "        new_li2.append(i)\n",
    "        new_li3.append(k)       \n",
    "    li1.append(new_li1)\n",
    "    li2.append(new_li2)\n",
    "    li3.append(new_li3)\n",
    "li.append(li1)\n",
    "li.append(li2)\n",
    "li.append(li3)\n",
    "print (li)"
   ]
  },
  {
   "cell_type": "code",
   "execution_count": 39,
   "metadata": {},
   "outputs": [
    {
     "name": "stdout",
     "output_type": "stream",
     "text": [
      "[21, 87, 45, 33, 1]\n"
     ]
    }
   ],
   "source": [
    "#Write a Python program which takes a list of numbers as input and prints a new list after removing even numbers from it.\n",
    "#Input:- [10,21,22,98,87,45,33,1,2,100]\n",
    "#Output:- [21,87,45,33,1]\n",
    "def rem_even(mylist):\n",
    "    new_list=[x for x in mylist if x%2!=0]\n",
    "    print (new_list)\n",
    "    \n",
    "mylist=[10,21,22,98,87,45,33,1,2,100]\n",
    "\n",
    "rem_even(mylist)"
   ]
  },
  {
   "cell_type": "code",
   "execution_count": 38,
   "metadata": {},
   "outputs": [
    {
     "name": "stdin",
     "output_type": "stream",
     "text": [
      "Enter the number of element in the list:  10\n",
      "Enter the element:  10\n",
      "Enter the element:  21\n",
      "Enter the element:  22\n",
      "Enter the element:  98\n",
      "Enter the element:  87\n",
      "Enter the element:  45\n",
      "Enter the element:  33\n",
      "Enter the element:  1\n",
      "Enter the element:  2\n",
      "Enter the element:  100\n"
     ]
    },
    {
     "name": "stdout",
     "output_type": "stream",
     "text": [
      "Input list:  [10, 21, 22, 98, 87, 45, 33, 1, 2, 100]\n",
      "shuffled list:  [21, 2, 87, 98, 10, 45, 1, 33, 22, 100]\n"
     ]
    }
   ],
   "source": [
    "#Write a Python program which takes a list from the user and prints it after reshuffling the elements of the list.\n",
    "#Input:- [10,21,22,98,87,45,33,1,2,100]\n",
    "#Output:- [1,87,21,10,33,2,100,45,98,22] (It may be any randon list but with same elements)\n",
    "import random\n",
    "num_list=[]\n",
    "len_list=int(input(\"Enter the number of element in the list: \"))\n",
    "for i in range(len_list):\n",
    "    elem=int(input(\"Enter the element: \"))\n",
    "    num_list.append(elem)\n",
    "print (\"Input list: \", num_list)\n",
    "random.shuffle(num_list)\n",
    "print (\"shuffled list: \", num_list)"
   ]
  },
  {
   "cell_type": "code",
   "execution_count": null,
   "metadata": {},
   "outputs": [],
   "source": []
  }
 ],
 "metadata": {
  "kernelspec": {
   "display_name": "Python 3",
   "language": "python",
   "name": "python3"
  },
  "language_info": {
   "codemirror_mode": {
    "name": "ipython",
    "version": 3
   },
   "file_extension": ".py",
   "mimetype": "text/x-python",
   "name": "python",
   "nbconvert_exporter": "python",
   "pygments_lexer": "ipython3",
   "version": "3.7.6"
  }
 },
 "nbformat": 4,
 "nbformat_minor": 4
}
