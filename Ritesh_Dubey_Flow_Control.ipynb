{
 "cells": [
  {
   "cell_type": "code",
   "execution_count": 1,
   "metadata": {},
   "outputs": [],
   "source": [
    "#If - elif - else statement"
   ]
  },
  {
   "cell_type": "code",
   "execution_count": 5,
   "metadata": {},
   "outputs": [
    {
     "name": "stdin",
     "output_type": "stream",
     "text": [
      "Enter the number that you want the spelling for (between 0-9):  -2\n"
     ]
    },
    {
     "name": "stdout",
     "output_type": "stream",
     "text": [
      "The number is not within range of 0-9\n"
     ]
    },
    {
     "name": "stdin",
     "output_type": "stream",
     "text": [
      "Enter the number that you want the spelling for (between 0-9):  0\n"
     ]
    },
    {
     "name": "stdout",
     "output_type": "stream",
     "text": [
      "Zero\n"
     ]
    },
    {
     "name": "stdin",
     "output_type": "stream",
     "text": [
      "Enter the number that you want the spelling for (between 0-9):  6\n"
     ]
    },
    {
     "name": "stdout",
     "output_type": "stream",
     "text": [
      "Six\n"
     ]
    },
    {
     "name": "stdin",
     "output_type": "stream",
     "text": [
      "Enter the number that you want the spelling for (between 0-9):  14\n"
     ]
    },
    {
     "name": "stdout",
     "output_type": "stream",
     "text": [
      "The number is not within range of 0-9\n"
     ]
    }
   ],
   "source": [
    "#W. A P. which takes one number from 0 to 9 from the user and prints it in the word. And if the word is not from 0 to 9 then\n",
    "#it should print that number is outside of the range and program should exit.\n",
    "# For exapmple:- \n",
    "# input = 1\n",
    "# output = one\n",
    "\n",
    "def print_spelling():\n",
    "    num=int(input(\"Enter the number that you want the spelling for (between 0-9): \"))\n",
    "    if num==0:\n",
    "        print (\"Zero\")\n",
    "    elif num==1:\n",
    "        print (\"One\")\n",
    "    elif num==2:\n",
    "        print (\"Two\")\n",
    "    elif num==3:\n",
    "        print (\"Three\")\n",
    "    elif num==4:\n",
    "        print (\"Four\")\n",
    "    elif num==5:\n",
    "        print (\"Five\")\n",
    "    elif num==6:\n",
    "        print (\"Six\")\n",
    "    elif num==7:\n",
    "        print (\"Seven\")\n",
    "    elif num==8:\n",
    "        print (\"Eight\")\n",
    "    elif num==9:\n",
    "        print (\"Nine\")\n",
    "    else:\n",
    "        print (\"The number is not within range of 0-9\")\n",
    "    return\n",
    "for i in range (0,4):\n",
    "    print_spelling()\n",
    "\n",
    "       "
   ]
  },
  {
   "cell_type": "code",
   "execution_count": 1,
   "metadata": {},
   "outputs": [
    {
     "name": "stdin",
     "output_type": "stream",
     "text": [
      "Enter the first number:  8\n",
      "Enter the second number:  2\n"
     ]
    },
    {
     "name": "stdout",
     "output_type": "stream",
     "text": [
      "Calculator operation options:\n",
      "1.Add\t2.Substract\t3.Multiply]\t4.Divide\n",
      "5.Quotient\t6.Remainder\t7.1st to the power of 2nd\t8.Exit\n"
     ]
    },
    {
     "name": "stdin",
     "output_type": "stream",
     "text": [
      "Enter the claculator operation:  4\n"
     ]
    },
    {
     "data": {
      "text/plain": [
       "4.0"
      ]
     },
     "execution_count": 1,
     "metadata": {},
     "output_type": "execute_result"
    }
   ],
   "source": [
    "#W. A P. to implement calculator but the operation to be done and two numbers will be taken as input from user:-\n",
    "#Operation console should show below:-\n",
    "#     Please select any one operation from below:-\n",
    "#         * To add enter 1\n",
    "#         * to subtract enter 2\n",
    "#         * To multiply enter 3\n",
    "#         * To divide enter 4\n",
    "#         * To divide and find quotient enter 5\n",
    "#         * To divide and find remainder enter 6\n",
    "#         * To divide and find num1 to the power of num2 enter 7\n",
    "#         * To Come out of the program enter 8\n",
    "\n",
    "def calc(num1,num2,op):\n",
    "    if op==1:\n",
    "        return num1+num2\n",
    "    elif op==2:\n",
    "        return num1-num2\n",
    "    elif op==3:\n",
    "        return num1*num2\n",
    "    elif op==4:\n",
    "        if num2==0:\n",
    "            print (\"Will result in divide by zero error: Exiting....\")\n",
    "            exit()\n",
    "        else:\n",
    "            return num1/num2\n",
    "    elif op==5:\n",
    "        if num2==0:\n",
    "            print (\"Will result in divide by zero error: Exiting....\")\n",
    "            exit()\n",
    "        else:\n",
    "            return num1//num2\n",
    "    elif op==6:\n",
    "        if num2==0:\n",
    "            print (\"Will result in divide by zero error: Exiting....\")\n",
    "            exit()\n",
    "        else:\n",
    "            return num1%num2\n",
    "    elif op==7:\n",
    "        return num1**num2\n",
    "    elif op==8:\n",
    "        exit()\n",
    "    else:\n",
    "        print (\"Invalid operation\")\n",
    "    return\n",
    "\n",
    "num1=int(input(\"Enter the first number: \"))\n",
    "num2=int(input(\"Enter the second number: \"))\n",
    "print (\"Calculator operation options:\\n1.Add\\t2.Substract\\t3.Multiply]\\t4.Divide\\n5.Quotient\\t6.Remainder\\t7.1st to the power of 2nd\\t8.Exit\")\n",
    "op=int(input(\"Enter the claculator operation: \"))\n",
    "calc(num1,num2,op)\n",
    "        "
   ]
  },
  {
   "cell_type": "code",
   "execution_count": 2,
   "metadata": {},
   "outputs": [
    {
     "name": "stdin",
     "output_type": "stream",
     "text": [
      "Enter Year:  1700\n"
     ]
    },
    {
     "name": "stdout",
     "output_type": "stream",
     "text": [
      "1700 is not a Leap Year\n"
     ]
    }
   ],
   "source": [
    "#W A P to check whether a year entered by user is an leap year or not?\n",
    "#Check with below input:-\n",
    "    #leap year:- 2012, 1968, 2004, 1200, 1600,2400\n",
    "    #Non-lear year:- 1971, 2006, 1700,1800,1900\n",
    "    \n",
    "# User enters the year\n",
    "year = int(input(\"Enter Year: \"))\n",
    "\n",
    "# Leap Year Check\n",
    "if year % 4 == 0 and year % 100 != 0:\n",
    "    print(year, \"is a Leap Year\")\n",
    "elif year % 100 == 0:\n",
    "    print(year, \"is not a Leap Year\")\n",
    "elif year % 400 ==0:\n",
    "    print(year, \"is a Leap Year\")\n",
    "else:\n",
    "    print(year, \"is not a Leap Year\")"
   ]
  },
  {
   "cell_type": "code",
   "execution_count": 3,
   "metadata": {},
   "outputs": [
    {
     "name": "stdin",
     "output_type": "stream",
     "text": [
      "Enter a number:  56\n"
     ]
    },
    {
     "name": "stdout",
     "output_type": "stream",
     "text": [
      "56 is Even\n"
     ]
    }
   ],
   "source": [
    "#W A P which takes one number from the user and checks whether it is an even or odd number?, If it even then prints number is \n",
    "#even number else prints that number is odd number.\n",
    "\n",
    "num = int(input(\"Enter a number: \"))\n",
    "if (num % 2) == 0:\n",
    "   print(\"{0} is Even\".format(num))\n",
    "else:\n",
    "   print(\"{0} is Odd\".format(num))"
   ]
  },
  {
   "cell_type": "code",
   "execution_count": 5,
   "metadata": {},
   "outputs": [
    {
     "name": "stdin",
     "output_type": "stream",
     "text": [
      "Enter the first number:  5\n",
      "Enter the second number:  7\n"
     ]
    },
    {
     "name": "stdout",
     "output_type": "stream",
     "text": [
      "num2 is greater than num1\n",
      "num2 is greater than num1\n"
     ]
    }
   ],
   "source": [
    "#W A P which takes two numbers from the user and prints below output:-\n",
    "#     1. num1 is greater than num2 if num1 is greater than num2\n",
    "#     2. num1 is smaller than num2 if num1 is smaller than num2\n",
    "#     3. num1 is equal to num2 if num1 and num2 are equal\n",
    "\n",
    "#Note:- 1. Do this problem using if - else \n",
    "#       2. Do this using ternary operator\n",
    "a =int(input(\"Enter the first number: \"))\n",
    "b =int(input(\"Enter the second number: \"))\n",
    "if a==b:\n",
    "    print ('num1 is equal to num2')\n",
    "elif a > b:\n",
    "\tprint ('num1 is greater than num2')\n",
    "else:\n",
    "\tprint ('num2 is greater than num1')\n",
    "\n",
    "    \n",
    "#using Ternary o[erator]    \n",
    "print ('num1 is equal to num2') if a==b else print ('num1 is greater than num2') if a>b else print ('num2 is greater than num1')"
   ]
  },
  {
   "cell_type": "code",
   "execution_count": 6,
   "metadata": {},
   "outputs": [
    {
     "name": "stdin",
     "output_type": "stream",
     "text": [
      "Enter the first number:  6\n",
      "Enter the second number:  9\n",
      "Enter the third number:  11\n"
     ]
    },
    {
     "name": "stdout",
     "output_type": "stream",
     "text": [
      "num3 is greater than num1 and num2\n",
      "num3 is greater than num1 and num2\n"
     ]
    }
   ],
   "source": [
    "#W A P which takes three numbers from the user and prints below output:-\n",
    "#     1. num1 is greater than num2 and num3 if num1 is greater than num2 and num3\n",
    "#     2. num2 is greater than num1 and num3 if num2 is greater than num1 and num3\n",
    "#     3. num3 is greater than num1 and num2 if num3 is greater than num1 and num2\n",
    "\n",
    "#Note:- 1. Do this problem using if - elif - else \n",
    "#       2. Do this using ternary operator\n",
    "\n",
    "a =int(input(\"Enter the first number: \"))\n",
    "b =int(input(\"Enter the second number: \"))\n",
    "c =int(input(\"Enter the third number: \"))\n",
    "if a>b and a>c:\n",
    "    print ('num1 is greater than num2 and num3')\n",
    "elif b > a and b > c:\n",
    "\tprint ('num2 is greater than num1 and num3')\n",
    "elif c > a and c > b:\n",
    "\tprint ('num3 is greater than num1 and num2')\n",
    "\n",
    "    \n",
    "#using Ternary o[erator]    \n",
    "print ('num1 is greater than num2 and num3') if a>b and a>c else print ('num2 is greater than num3 and num1') if b>a and b>c else print ('num3 is greater than num1 and num2')"
   ]
  },
  {
   "cell_type": "code",
   "execution_count": null,
   "metadata": {},
   "outputs": [],
   "source": [
    "#Loops - for loop, while loop"
   ]
  },
  {
   "cell_type": "code",
   "execution_count": 7,
   "metadata": {},
   "outputs": [
    {
     "name": "stdout",
     "output_type": "stream",
     "text": [
      "55\n"
     ]
    }
   ],
   "source": [
    "#Write a Python program to find the length of the my_str using loop:-\n",
    "\n",
    "#Input:- 'Write a Python program to find the length of the my_str'\n",
    "#Output:- 55\n",
    "\n",
    "str1='Write a Python program to find the length of the my_str'\n",
    "length=0\n",
    "for i in str1:\n",
    "    length=length+1\n",
    "print (length)\n",
    "    "
   ]
  },
  {
   "cell_type": "code",
   "execution_count": 9,
   "metadata": {},
   "outputs": [
    {
     "name": "stdout",
     "output_type": "stream",
     "text": [
      "9\n"
     ]
    }
   ],
   "source": [
    "#Write a Python program to find the total number of times letter 'p' is appeared in the below string using loop:-\n",
    "    \n",
    "#Input:- 'peter piper picked a peck of pickled peppers.'\n",
    "#Output:- 9\n",
    "\n",
    "str1='peter piper picked a peck of pickled peppers.'\n",
    "count = 0\n",
    "  \n",
    "for i in str1: \n",
    "    if i == 'p': \n",
    "        count = count + 1\n",
    "print (count)"
   ]
  },
  {
   "cell_type": "code",
   "execution_count": 10,
   "metadata": {},
   "outputs": [
    {
     "name": "stdout",
     "output_type": "stream",
     "text": [
      "0\n",
      "6\n",
      "8\n",
      "12\n",
      "21\n",
      "29\n",
      "37\n",
      "39\n",
      "40\n"
     ]
    }
   ],
   "source": [
    "#Write a Python Program, to print all the indexes of all occurences of letter 'p' appeared in the string using loop:-\n",
    "    \n",
    "#Input:- 'peter piper picked a peck of pickled peppers.'\n",
    "#Output:- \n",
    "# 0\n",
    "# 6\n",
    "# 8\n",
    "# 12\n",
    "# 21\n",
    "# 29\n",
    "# 37\n",
    "# 39\n",
    "# 40\n",
    "\n",
    "\n",
    "str1='peter piper picked a peck of pickled peppers.'\n",
    "for i in range(len(str1)):\n",
    "    if str1[i]=='p':\n",
    "        print (i)"
   ]
  },
  {
   "cell_type": "code",
   "execution_count": 12,
   "metadata": {},
   "outputs": [
    {
     "data": {
      "text/plain": [
       "['peter', 'piper', 'picked', 'a', 'peck', 'of', 'pickled', 'peppers']"
      ]
     },
     "execution_count": 12,
     "metadata": {},
     "output_type": "execute_result"
    }
   ],
   "source": [
    "#Write a python program to find below output using loop:-\n",
    "\n",
    "#Input:- 'peter piper picked a peck of pickled peppers.'\n",
    "#Output:- ['peter', 'piper', 'picked', 'a', 'peck', 'of', 'pickled', 'peppers']\n",
    "\n",
    "str1='peter piper picked a peck of pickled peppers'\n",
    "li=[x for x in str1.split()]\n",
    "li"
   ]
  },
  {
   "cell_type": "code",
   "execution_count": 16,
   "metadata": {},
   "outputs": [
    {
     "data": {
      "text/plain": [
       "'peppers pickled of peck a picked piper peter'"
      ]
     },
     "execution_count": 16,
     "metadata": {},
     "output_type": "execute_result"
    }
   ],
   "source": [
    "#Write a python program to find below output using loop:-\n",
    "\n",
    "#Input:- 'peter piper picked a peck of pickled peppers.'\n",
    "#Output:- 'peppers pickled of peck a picked piper peter'\n",
    "str1='peter piper picked a peck of pickled peppers'\n",
    "li=[x for x in str1.split()]\n",
    "str2=' '.join(li[::-1])\n",
    "str2"
   ]
  },
  {
   "cell_type": "code",
   "execution_count": 37,
   "metadata": {},
   "outputs": [
    {
     "name": "stdout",
     "output_type": "stream",
     "text": [
      "sreppep delkcip fo kcep a dekcip repip retep\n"
     ]
    }
   ],
   "source": [
    "#Write a python program to find below output using loop:-\n",
    "\n",
    "#Input:- 'peter piper picked a peck of pickled peppers.'\n",
    "#Output:- 'sreppep delkcip fo kcep a dekcip repip retep'\n",
    "inp_str='peter piper picked a peck of pickled peppers'\n",
    "op_str=''\n",
    "for i in range(len(inp_str)-1,-1,-1):\n",
    "    op_str+=inp_str[i]\n",
    "print (op_str)"
   ]
  },
  {
   "cell_type": "code",
   "execution_count": 33,
   "metadata": {},
   "outputs": [
    {
     "name": "stdout",
     "output_type": "stream",
     "text": [
      "retep repip dekcip a kcep fo delkcip sreppep\n"
     ]
    }
   ],
   "source": [
    "#Write a python program to find below output using loop:-\n",
    "\n",
    "#Input:- 'peter piper picked a peck of pickled peppers.'\n",
    "#Output:- 'retep repip dekcip a kcep fo delkcip sreppep'\n",
    "inp_str='peter piper picked a peck of pickled peppers'\n",
    "op_str=''\n",
    "li=[x for x in inp_str.split(' ')]\n",
    "li1=[]\n",
    "for x in li:\n",
    "    li1.append(x[::-1])\n",
    "op_str=' '.join(li1)\n",
    "print (op_str)"
   ]
  },
  {
   "cell_type": "code",
   "execution_count": 29,
   "metadata": {},
   "outputs": [
    {
     "name": "stdout",
     "output_type": "stream",
     "text": [
      "Peter Piper Picked A Peck Of Pickled Peppers\n"
     ]
    }
   ],
   "source": [
    "#Write a python program to find below output using loop:-\n",
    "\n",
    "#Input:- 'peter piper picked a peck of pickled peppers.'\n",
    "#Output:- 'Peter Piper Picked A Peck Of Pickled Peppers'\n",
    "\n",
    "inp_str='peter piper picked a peck of pickled peppers'\n",
    "op_str=''\n",
    "for i in range(len(inp_str)):\n",
    "    if i==0:\n",
    "        op_str+=inp_str[0].upper()\n",
    "    elif inp_str[i-1]==' ':\n",
    "        op_str+=inp_str[i].upper()\n",
    "    else:\n",
    "        op_str+=inp_str[i]\n",
    "print (op_str)"
   ]
  },
  {
   "cell_type": "code",
   "execution_count": 31,
   "metadata": {},
   "outputs": [
    {
     "name": "stdout",
     "output_type": "stream",
     "text": [
      "Peter piper picked a peck of pickled peppers\n"
     ]
    }
   ],
   "source": [
    "#Write a python program to find below output using loop:-\n",
    "\n",
    "inp_str= 'Peter Piper Picked A Peck Of Pickled Peppers'\n",
    "#Output:- 'Peter piper picked a peck of pickled peppers'\n",
    "op_str=''\n",
    "for i in range(len(inp_str)):\n",
    "    if i==0:\n",
    "        op_str+=inp_str[0].upper()\n",
    "    else:\n",
    "        op_str+=inp_str[i].lower()\n",
    "print (op_str)    \n"
   ]
  },
  {
   "cell_type": "code",
   "execution_count": 46,
   "metadata": {},
   "outputs": [
    {
     "name": "stdout",
     "output_type": "stream",
     "text": [
      "29\n"
     ]
    }
   ],
   "source": [
    "#Write a python program to implement index method using loop. If sub_str is found in my_str then it will print the index\n",
    "# of first occurrence of first character of matching string in my_str:-\n",
    "\n",
    "#Input:- my_str = 'Peter Piper Picked A Peck Of Pickled Peppers.', sub_str = 'Pickl'\n",
    "#Output:- 29\n",
    "\n",
    "inp_str='Peter Piper Picked A Peck Of Pickled Peppers'\n",
    "for i in range(len(inp_str)):\n",
    "    if inp_str[i:i+5]=='Pickl':\n",
    "        print (i)"
   ]
  },
  {
   "cell_type": "code",
   "execution_count": 64,
   "metadata": {},
   "outputs": [
    {
     "name": "stdout",
     "output_type": "stream",
     "text": [
      "Peter Piper Picked A Pack Of Pickled Peppers.\n"
     ]
    }
   ],
   "source": [
    "#Write a python program to implement replace method using loop. If sub_str is found in my_str then it will replace the first \n",
    "#occurrence of sub_str with new_str else it will will print sub_str not found:-\n",
    "\n",
    "#Input:- my_str = 'Peter Piper Picked A Peck Of Pickled Peppers.', sub_str = 'Peck', new_str = 'Pack'\n",
    "#Output:- 'Peter Piper Picked A Pack Of Pickled Peppers.'\n",
    "inp_str='Peter Piper Picked A Peck Of Pickled Peppers.'\n",
    "op_str=''\n",
    "i=0\n",
    "while(i < len(inp_str)):\n",
    "    if inp_str[i:i+4]=='Peck':\n",
    "        op_str+='Pack'\n",
    "        i=i+4\n",
    "    else:\n",
    "        op_str+=inp_str[i]\n",
    "        i=i+1\n",
    "print (op_str)\n"
   ]
  },
  {
   "cell_type": "code",
   "execution_count": 62,
   "metadata": {},
   "outputs": [
    {
     "name": "stdout",
     "output_type": "stream",
     "text": [
      "*********************Peck********************\n"
     ]
    }
   ],
   "source": [
    "#Write a python program to find below output (implements rjust and ljust) using loop:-\n",
    "\n",
    "#Input:- 'Peter Piper Picked A Peck Of Pickled Peppers.', sub_str = 'Peck', \n",
    "#Output:- '*********************Peck********************'\n",
    "\n",
    "inp_str='Peter Piper Picked A Peck Of Pickled Peppers.'\n",
    "op_str=''\n",
    "i=0\n",
    "while(i < len(inp_str)):\n",
    "    if inp_str[i:i+4]=='Peck':\n",
    "        op_str+='Peck'\n",
    "        i=i+4\n",
    "    else:\n",
    "        op_str+='*'\n",
    "        i=i+1\n",
    "print (op_str)"
   ]
  },
  {
   "cell_type": "code",
   "execution_count": 68,
   "metadata": {},
   "outputs": [
    {
     "name": "stdout",
     "output_type": "stream",
     "text": [
      "['This', 'is', 'Python class']\n"
     ]
    }
   ],
   "source": [
    "#Write a python program to find below output (implement partition and rpartition) using loop:-\n",
    "\n",
    "#Input:- 'This is Python class', sep = 'Peck', \n",
    "#Output:- ['This', 'is', 'Python class']\n",
    "\n",
    "inp_str='This is Python class'\n",
    "op=[x for x in inp_str.split(\" is \")]\n",
    "op.insert(1,\"is\")\n",
    "print (op)\n"
   ]
  },
  {
   "cell_type": "code",
   "execution_count": 27,
   "metadata": {},
   "outputs": [
    {
     "name": "stdout",
     "output_type": "stream",
     "text": [
      "R{vjqp\n",
      "Rwvfql\n",
      "R{vfml\n"
     ]
    }
   ],
   "source": [
    "#Write a python program which takes one input string from user and encode it in below format:-\n",
    "#Input:- 'Python'\n",
    "#Output:- 'R{vjqp'\n",
    "        \n",
    "s='Python'\n",
    "ns=''\n",
    "for c in s:\n",
    "    ns+=chr(ord(c) + 2)     \n",
    "print (ns)      \n",
    "        \n",
    "        \n",
    "\n",
    "#Input:- 'Python'\n",
    "#Output:- 'Rwvfql'\n",
    "        \n",
    "s='Python'\n",
    "ns1=''\n",
    "for i,c in enumerate(s):\n",
    "    if i%2==0:\n",
    "        ns1+=chr(ord(c) + 2)\n",
    "    else:\n",
    "        ns1+=chr(ord(c) - 2)\n",
    "print (ns1)          \n",
    "        \n",
    "        \n",
    "        \n",
    "#Input:- 'Python'\n",
    "#Output:- 'R{vfml'\n",
    "        \n",
    "s='Python'\n",
    "ns2=''\n",
    "for i,c in enumerate(s):\n",
    "    if i<len(s)//2:\n",
    "        ns2+=chr(ord(c) + 2)\n",
    "    else:\n",
    "        ns2+=chr(ord(c) - 2) \n",
    "print (ns2)         \n",
    "        "
   ]
  }
 ],
 "metadata": {
  "kernelspec": {
   "display_name": "Python 3",
   "language": "python",
   "name": "python3"
  },
  "language_info": {
   "codemirror_mode": {
    "name": "ipython",
    "version": 3
   },
   "file_extension": ".py",
   "mimetype": "text/x-python",
   "name": "python",
   "nbconvert_exporter": "python",
   "pygments_lexer": "ipython3",
   "version": "3.7.6"
  }
 },
 "nbformat": 4,
 "nbformat_minor": 4
}
