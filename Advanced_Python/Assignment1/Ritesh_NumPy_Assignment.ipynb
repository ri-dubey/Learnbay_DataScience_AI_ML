{
 "cells": [
  {
   "cell_type": "markdown",
   "metadata": {},
   "source": [
    "Importing all the needed libraries"
   ]
  },
  {
   "cell_type": "code",
   "execution_count": 2,
   "metadata": {},
   "outputs": [],
   "source": [
    "import numpy as np\n",
    "import pandas as pd"
   ]
  },
  {
   "cell_type": "markdown",
   "metadata": {},
   "source": [
    "Write a Python program to print the NumPy\n",
    "version in your system."
   ]
  },
  {
   "cell_type": "code",
   "execution_count": 3,
   "metadata": {},
   "outputs": [
    {
     "name": "stdout",
     "output_type": "stream",
     "text": [
      "1.18.1\n"
     ]
    }
   ],
   "source": [
    "print(np.__version__)"
   ]
  },
  {
   "cell_type": "markdown",
   "metadata": {},
   "source": [
    "Write a Python program to reverse an array\n",
    "(first element becomes last)."
   ]
  },
  {
   "cell_type": "code",
   "execution_count": 7,
   "metadata": {},
   "outputs": [
    {
     "name": "stdout",
     "output_type": "stream",
     "text": [
      "[0 1 2 3 4 5 6 7 8 9]\n",
      "[9 8 7 6 5 4 3 2 1 0]\n"
     ]
    }
   ],
   "source": [
    "arr=np.arange(10)\n",
    "print (arr)\n",
    "rever=arr[::-1]\n",
    "print (rever)"
   ]
  },
  {
   "cell_type": "markdown",
   "metadata": {},
   "source": [
    "Write a Python program to convert a list and\n",
    "tuple into arrays."
   ]
  },
  {
   "cell_type": "code",
   "execution_count": 8,
   "metadata": {},
   "outputs": [
    {
     "name": "stdout",
     "output_type": "stream",
     "text": [
      "List to array: \n",
      "[1 2 3 4 5 6 7 8]\n",
      "Tuple to array: \n",
      "[[1 2]\n",
      " [2 3]\n",
      " [3 4]]\n"
     ]
    }
   ],
   "source": [
    "my_list = [1, 2, 3, 4, 5, 6, 7, 8]\n",
    "print(\"List to array: \")\n",
    "print(np.asarray(my_list))\n",
    "my_tuple = ([1, 2,], [ 2, 3],[3,4])\n",
    "print(\"Tuple to array: \")\n",
    "print(np.asarray(my_tuple))"
   ]
  },
  {
   "cell_type": "markdown",
   "metadata": {},
   "source": [
    "Write a Python program to find common values\n",
    "between two arrays."
   ]
  },
  {
   "cell_type": "code",
   "execution_count": 10,
   "metadata": {},
   "outputs": [
    {
     "name": "stdout",
     "output_type": "stream",
     "text": [
      "Array1:  [0 1 2 3 4 5 6 7 8 9]\n",
      "Array2:  [ 4  5  6  7  8  9 10 11]\n",
      "Common values between two arrays:\n",
      "[4 5 6 7 8 9]\n"
     ]
    }
   ],
   "source": [
    "array1 = np.arange(10)\n",
    "print(\"Array1: \",array1)\n",
    "array2 = np.arange(4,12)\n",
    "print(\"Array2: \",array2)\n",
    "print(\"Common values between two arrays:\")\n",
    "print(np.intersect1d(array1, array2))"
   ]
  },
  {
   "cell_type": "markdown",
   "metadata": {},
   "source": [
    "Write a Python program compare two arrays\n",
    "using numpy."
   ]
  },
  {
   "cell_type": "code",
   "execution_count": 16,
   "metadata": {},
   "outputs": [
    {
     "name": "stdout",
     "output_type": "stream",
     "text": [
      "Array1:  [0 1 2 3 4 5 6 7 8 9]\n",
      "Array2:  [ 0  1  2  3  4  5  6  7  8  9 10 11 12 13 14]\n",
      "Not equal\n",
      "Array1:  [0 1 2 3 4]\n",
      "Array2:  [2 3 4 5 6]\n",
      "Not equal\n",
      "Array1:  [1 3 5 7]\n",
      "Array2:  [1 3 5 7]\n",
      "Arrays are equal\n"
     ]
    }
   ],
   "source": [
    "\n",
    "def comp_arrays(array1,array2):\n",
    "    print(\"Array1: \",array1)\n",
    "    print(\"Array2: \",array2)\n",
    "    if array1.shape==array2.shape:\n",
    "        if (array1==array2).all():\n",
    "            print (\"Arrays are equal\")\n",
    "        else:\n",
    "            print (\"Not equal\")\n",
    "    else:\n",
    "        print (\"Not equal\")\n",
    "        \n",
    "array1 = np.arange(10)\n",
    "array2 = np.arange(15)\n",
    "comp_arrays(array1,array2)\n",
    "arr1 = np.arange(5)\n",
    "arr2 = np.arange(2,7)\n",
    "comp_arrays(arr1,arr2)\n",
    "ar1= np.arange(1,9,2)\n",
    "ar2= np.arange(1,9,2)\n",
    "comp_arrays(ar1,ar2)"
   ]
  },
  {
   "cell_type": "markdown",
   "metadata": {},
   "source": [
    "Write a Python program to change the\n",
    "dimension of an array."
   ]
  },
  {
   "cell_type": "code",
   "execution_count": 23,
   "metadata": {},
   "outputs": [
    {
     "name": "stdout",
     "output_type": "stream",
     "text": [
      "[1 2 3 4 5 6 7 8]\n",
      "[[1 2 3 4]\n",
      " [5 6 7 8]]\n",
      "[[1 2]\n",
      " [3 4]\n",
      " [5 6]\n",
      " [7 8]]\n"
     ]
    }
   ],
   "source": [
    "arr1=np.array([1,2,3,4,5,6,7,8])\n",
    "print (arr1)\n",
    "arr1.resize(2,4)\n",
    "print (arr1)\n",
    "arr1.resize(4,2)\n",
    "print (arr1)"
   ]
  },
  {
   "cell_type": "markdown",
   "metadata": {},
   "source": [
    "Write a Python program (using numpy) to sum\n",
    "of all the multiples of 3 or 5 below 100."
   ]
  },
  {
   "cell_type": "code",
   "execution_count": 26,
   "metadata": {},
   "outputs": [
    {
     "name": "stdout",
     "output_type": "stream",
     "text": [
      "[ 3  5  6  9 10 12 15 18 20 21 24 25 27 30 33 35 36 39 40 42 45 48 50 51\n",
      " 54 55 57 60 63 65 66 69 70 72 75 78 80 81 84 85 87 90 93 95 96 99]\n",
      "2318\n"
     ]
    }
   ],
   "source": [
    "arr = np.arange(1, 100)\n",
    "mult_li= arr[(arr % 3 == 0) | (arr % 5 == 0)]\n",
    "print(mult_li)\n",
    "print(mult_li.sum())"
   ]
  },
  {
   "cell_type": "markdown",
   "metadata": {},
   "source": [
    "Write a Python program to convert a NumPy\n",
    "array into Python list structure."
   ]
  },
  {
   "cell_type": "code",
   "execution_count": 27,
   "metadata": {},
   "outputs": [
    {
     "name": "stdout",
     "output_type": "stream",
     "text": [
      "NumPy Array:\n",
      "[1 2 3]\n",
      "List: [1, 2, 3]\n"
     ]
    }
   ],
   "source": [
    "arr = np.array([1, 2, 3])\n",
    "print(f'NumPy Array:\\n{arr}')\n",
    "\n",
    "list1 = arr.tolist()\n",
    "print(f'List: {list1}')"
   ]
  },
  {
   "cell_type": "markdown",
   "metadata": {},
   "source": [
    "Write a Python program to how to add an extra\n",
    "column to a numpy array."
   ]
  },
  {
   "cell_type": "code",
   "execution_count": 29,
   "metadata": {},
   "outputs": [
    {
     "name": "stdout",
     "output_type": "stream",
     "text": [
      "[[1 2 3 4]\n",
      " [5 6 7 8]]\n"
     ]
    }
   ],
   "source": [
    "x = np.array([[1,2,3], [5,6,7]])\n",
    "y = np.array([[4], [8]])\n",
    "print(np.append(x, y, axis=1))"
   ]
  },
  {
   "cell_type": "markdown",
   "metadata": {},
   "source": [
    "Write a Python program to check whether the\n",
    "numpy array is empty or not."
   ]
  },
  {
   "cell_type": "code",
   "execution_count": 31,
   "metadata": {},
   "outputs": [
    {
     "name": "stdout",
     "output_type": "stream",
     "text": [
      "Not Empty\n",
      "Empty\n"
     ]
    }
   ],
   "source": [
    "arr1=np.arange(10)\n",
    "def is_empty(arr):\n",
    "    if arr.size==0:\n",
    "        print (\"Empty\")\n",
    "    else:\n",
    "        print (\"Not Empty\")\n",
    "is_empty(arr1)\n",
    "arr2=np.array([])\n",
    "is_empty(arr2)"
   ]
  },
  {
   "cell_type": "markdown",
   "metadata": {},
   "source": [
    "Write a Python program to normalize a 3x3\n",
    "random matrix."
   ]
  },
  {
   "cell_type": "code",
   "execution_count": 36,
   "metadata": {},
   "outputs": [
    {
     "name": "stdout",
     "output_type": "stream",
     "text": [
      "Original Array:\n",
      "[[-3 -2 -1]\n",
      " [ 0  1  2]]\n",
      "After normalization:\n",
      "[[0.  0.2 0.4]\n",
      " [0.6 0.8 1. ]]\n"
     ]
    }
   ],
   "source": [
    "x= np.arange(-3,3)\n",
    "x.resize(2,3)\n",
    "print(\"Original Array:\")\n",
    "print(x)\n",
    "xmax, xmin = x.max(), x.min()\n",
    "x = (x - xmin)/(xmax - xmin)\n",
    "print(\"After normalization:\")\n",
    "print(x)"
   ]
  },
  {
   "cell_type": "markdown",
   "metadata": {},
   "source": [
    "How to ignore all numpy warnings (not\n",
    "recommended)?"
   ]
  },
  {
   "cell_type": "code",
   "execution_count": 37,
   "metadata": {},
   "outputs": [
    {
     "data": {
      "text/plain": [
       "{'divide': 'warn', 'over': 'warn', 'under': 'ignore', 'invalid': 'warn'}"
      ]
     },
     "execution_count": 37,
     "metadata": {},
     "output_type": "execute_result"
    }
   ],
   "source": [
    "np.seterr(all='ignore')"
   ]
  },
  {
   "cell_type": "markdown",
   "metadata": {},
   "source": [
    "How to swap two rows of an array?"
   ]
  },
  {
   "cell_type": "code",
   "execution_count": 39,
   "metadata": {},
   "outputs": [
    {
     "name": "stdout",
     "output_type": "stream",
     "text": [
      "[[1 2 3]\n",
      " [4 5 6]\n",
      " [7 8 9]\n",
      " [1 3 9]]\n",
      "[[4 5 6]\n",
      " [1 3 9]\n",
      " [1 2 3]\n",
      " [7 8 9]]\n"
     ]
    }
   ],
   "source": [
    "a = np.array([[1,2,3], [4,5,6], [7,8,9], [1,3,9]])\n",
    "print (a)\n",
    "a[[0,1,2,3]]=a[[1,3,0,2]]\n",
    "print (a)"
   ]
  },
  {
   "cell_type": "markdown",
   "metadata": {},
   "source": [
    "Compute bootstrapped 95% confidence\n",
    "intervals for the mean of a 1D array X (i.e.,\n",
    "resample the elements of an array with\n",
    "replacement N times, compute the mean of\n",
    "each sample, and then compute percentiles\n",
    "over the means)."
   ]
  },
  {
   "cell_type": "code",
   "execution_count": 40,
   "metadata": {},
   "outputs": [
    {
     "data": {
      "text/plain": [
       "array([0.49719457, 0.76531112])"
      ]
     },
     "execution_count": 40,
     "metadata": {},
     "output_type": "execute_result"
    }
   ],
   "source": [
    "x = np.concatenate([np.random.exponential(size=200), np.random.normal(size=100)])\n",
    "n = len(x)\n",
    "reps = 10000\n",
    "xb = np.random.choice(x, (n, reps))\n",
    "mb = xb.mean(axis=0)\n",
    "mb.sort()\n",
    "\n",
    "np.percentile(mb, [2.5, 97.5])"
   ]
  },
  {
   "cell_type": "markdown",
   "metadata": {},
   "source": [
    "Python program to create a random vector of\n",
    "size 10 and sort it."
   ]
  },
  {
   "cell_type": "code",
   "execution_count": 41,
   "metadata": {},
   "outputs": [
    {
     "name": "stdout",
     "output_type": "stream",
     "text": [
      "Original vector:\n",
      "[0.69719718 0.26298021 0.64456754 0.55957366 0.95958168 0.69637999\n",
      " 0.99587473 0.96697789 0.94046328 0.68762433]\n",
      "Sorted vector:\n",
      "[0.26298021 0.55957366 0.64456754 0.68762433 0.69637999 0.69719718\n",
      " 0.94046328 0.95958168 0.96697789 0.99587473]\n"
     ]
    }
   ],
   "source": [
    "vec = np.random.random(10)\n",
    "print(\"Original vector:\")\n",
    "print(vec)\n",
    "vec.sort()\n",
    "print(\"Sorted vector:\")\n",
    "print(vec)"
   ]
  },
  {
   "cell_type": "markdown",
   "metadata": {},
   "source": [
    "Write a Python program to check two random\n",
    "arrays are equal or not."
   ]
  },
  {
   "cell_type": "code",
   "execution_count": 42,
   "metadata": {},
   "outputs": [
    {
     "name": "stdout",
     "output_type": "stream",
     "text": [
      "Array1:  [0 1 2 3 4 5 6 7 8 9]\n",
      "Array2:  [ 0  1  2  3  4  5  6  7  8  9 10 11 12 13 14]\n",
      "Not equal\n",
      "Array1:  [0 1 2 3 4]\n",
      "Array2:  [2 3 4 5 6]\n",
      "Not equal\n",
      "Array1:  [1 3 5 7]\n",
      "Array2:  [1 3 5 7]\n",
      "Arrays are equal\n"
     ]
    }
   ],
   "source": [
    "def comp_arrays(array1,array2):\n",
    "    print(\"Array1: \",array1)\n",
    "    print(\"Array2: \",array2)\n",
    "    if array1.shape==array2.shape:\n",
    "        if (array1==array2).all():\n",
    "            print (\"Arrays are equal\")\n",
    "        else:\n",
    "            print (\"Not equal\")\n",
    "    else:\n",
    "        print (\"Not equal\")\n",
    "        \n",
    "array1 = np.arange(10)\n",
    "array2 = np.arange(15)\n",
    "comp_arrays(array1,array2)\n",
    "arr1 = np.arange(5)\n",
    "arr2 = np.arange(2,7)\n",
    "comp_arrays(arr1,arr2)\n",
    "ar1= np.arange(1,9,2)\n",
    "ar2= np.arange(1,9,2)\n",
    "comp_arrays(ar1,ar2)"
   ]
  },
  {
   "cell_type": "markdown",
   "metadata": {},
   "source": [
    "Write a Python program to add, subtract,\n",
    "multiply, divide arguments element-wise."
   ]
  },
  {
   "cell_type": "code",
   "execution_count": 45,
   "metadata": {},
   "outputs": [
    {
     "name": "stdout",
     "output_type": "stream",
     "text": [
      "[[ 8  9 10 11]\n",
      " [12 13 14 15]]\n",
      "[[1 2 3 4]\n",
      " [5 6 7 8]]\n",
      "[[ 9 11 13 15]\n",
      " [17 19 21 23]]\n",
      "[[7 7 7 7]\n",
      " [7 7 7 7]]\n",
      "[[  8  18  30  44]\n",
      " [ 60  78  98 120]]\n",
      "[[8.         4.5        3.33333333 2.75      ]\n",
      " [2.4        2.16666667 2.         1.875     ]]\n"
     ]
    }
   ],
   "source": [
    "arr1=np.arange(8,16)\n",
    "arr2=np.arange(1,9)\n",
    "arr1.resize(2,4)\n",
    "arr2.resize(2,4)\n",
    "print (arr1)\n",
    "print (arr2)\n",
    "print (arr1+arr2)\n",
    "print (arr1-arr2)\n",
    "print (arr1*arr2)\n",
    "print (arr1/arr2)"
   ]
  },
  {
   "cell_type": "markdown",
   "metadata": {},
   "source": [
    "Write a Python program to get the dates of\n",
    "yesterday, today and tomorrow."
   ]
  },
  {
   "cell_type": "code",
   "execution_count": 46,
   "metadata": {},
   "outputs": [
    {
     "name": "stdout",
     "output_type": "stream",
     "text": [
      "Yesterday's Date:  2020-07-09\n",
      "Today's Date:  2020-07-10\n",
      "Tomorrow's Date:  2020-07-11\n"
     ]
    }
   ],
   "source": [
    "last_day = np.datetime64('today', 'D') - np.timedelta64(1, 'D')\n",
    "print(\"Yesterday's Date: \",last_day)\n",
    "today     = np.datetime64('today', 'D')\n",
    "print(\"Today's Date: \",today)\n",
    "next_day  = np.datetime64('today', 'D') + np.timedelta64(1, 'D')\n",
    "print(\"Tomorrow's Date: \",next_day)"
   ]
  }
 ],
 "metadata": {
  "kernelspec": {
   "display_name": "Python 3",
   "language": "python",
   "name": "python3"
  },
  "language_info": {
   "codemirror_mode": {
    "name": "ipython",
    "version": 3
   },
   "file_extension": ".py",
   "mimetype": "text/x-python",
   "name": "python",
   "nbconvert_exporter": "python",
   "pygments_lexer": "ipython3",
   "version": "3.7.6"
  }
 },
 "nbformat": 4,
 "nbformat_minor": 4
}
