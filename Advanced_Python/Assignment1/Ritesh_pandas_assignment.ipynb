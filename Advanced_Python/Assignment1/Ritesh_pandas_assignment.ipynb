{
 "cells": [
  {
   "cell_type": "markdown",
   "metadata": {},
   "source": [
    "Importing all the needed libraries"
   ]
  },
  {
   "cell_type": "code",
   "execution_count": 1,
   "metadata": {},
   "outputs": [],
   "source": [
    "import numpy as np\n",
    "import pandas as pd"
   ]
  },
  {
   "cell_type": "markdown",
   "metadata": {},
   "source": [
    "Write a Python program to create and display a one-\n",
    "dimensional array-like object containing an array of data using Pandas module."
   ]
  },
  {
   "cell_type": "code",
   "execution_count": 3,
   "metadata": {},
   "outputs": [
    {
     "name": "stdout",
     "output_type": "stream",
     "text": [
      "   contents\n",
      "0         5\n",
      "1        10\n",
      "2        15\n",
      "3        20\n",
      "4        25\n",
      "5        30\n",
      "6        35\n",
      "7        40\n",
      "8        45\n",
      "9        50\n"
     ]
    }
   ],
   "source": [
    "arr1=np.arange(5,55,5)\n",
    "df=pd.DataFrame({'contents':arr1})\n",
    "print (df)"
   ]
  },
  {
   "cell_type": "markdown",
   "metadata": {},
   "source": [
    "Write a Python program to convert a Panda module Series to\n",
    "Python list and its type."
   ]
  },
  {
   "cell_type": "code",
   "execution_count": 11,
   "metadata": {},
   "outputs": [
    {
     "name": "stdout",
     "output_type": "stream",
     "text": [
      "<class 'pandas.core.series.Series'>\n",
      "int64\n",
      "<class 'list'>\n"
     ]
    }
   ],
   "source": [
    "print (type(df['contents']))\n",
    "print (df['contents'].dtype)\n",
    "li=list(df['contents'])\n",
    "print (type(li))"
   ]
  },
  {
   "cell_type": "markdown",
   "metadata": {},
   "source": [
    "Write a Python program to add, subtract, multiple and divide\n",
    "two Pandas Series."
   ]
  },
  {
   "cell_type": "code",
   "execution_count": 15,
   "metadata": {},
   "outputs": [
    {
     "name": "stdout",
     "output_type": "stream",
     "text": [
      "<class 'pandas.core.series.Series'> <class 'pandas.core.series.Series'>\n",
      "0     3\n",
      "1     7\n",
      "2    11\n",
      "3    15\n",
      "dtype: int64\n",
      "0    1\n",
      "1    1\n",
      "2    1\n",
      "3    1\n",
      "dtype: int64\n",
      "0     2\n",
      "1    12\n",
      "2    30\n",
      "3    56\n",
      "dtype: int64\n",
      "0    2.000000\n",
      "1    1.333333\n",
      "2    1.200000\n",
      "3    1.142857\n",
      "dtype: float64\n"
     ]
    }
   ],
   "source": [
    "ser1=pd.Series([2,4,6,8])\n",
    "ser2=pd.Series([1,3,5,7])\n",
    "print (type(ser1),type(ser2))\n",
    "print (ser1+ser2)\n",
    "print (ser1-ser2)\n",
    "print (ser1*ser2)\n",
    "print (ser1/ser2)"
   ]
  },
  {
   "cell_type": "markdown",
   "metadata": {},
   "source": [
    "Write a Python program to compare the elements of the two\n",
    "Pandas Series."
   ]
  },
  {
   "cell_type": "code",
   "execution_count": 22,
   "metadata": {},
   "outputs": [
    {
     "name": "stdout",
     "output_type": "stream",
     "text": [
      "Equal\n",
      "Not Equal\n"
     ]
    }
   ],
   "source": [
    "ser3=pd.Series([2,4,6,8])\n",
    "def comp_series(ser1,ser2):\n",
    "    if (ser1==ser2).all():\n",
    "        print (\"Equal\")\n",
    "    else:\n",
    "        print (\"Not Equal\")\n",
    "comp_series(ser1,ser3)\n",
    "comp_series(ser1,ser2)"
   ]
  },
  {
   "cell_type": "markdown",
   "metadata": {},
   "source": [
    "Write a Python program to display the following data column\n",
    "wise."
   ]
  },
  {
   "cell_type": "code",
   "execution_count": 65,
   "metadata": {},
   "outputs": [
    {
     "name": "stdout",
     "output_type": "stream",
     "text": [
      "        Chris Matt   Joe Mary Maya\n",
      "desig      EM   SE    SM  SSE   SE\n",
      "Sal      32.5    9  40.5   18   12\n",
      "id          1    3     2    8    6\n",
      "manager   yes   no   yes   no   no\n"
     ]
    }
   ],
   "source": [
    "emp_data  = {'desig': ['EM', 'SE', 'SM', 'SSE', 'SE'],\n",
    "        'Sal': [32.5, 9, 40.5, 18, 12],\n",
    "        'id': [1, 3, 2, 8, 6],\n",
    "        'manager': ['yes', 'no', 'yes', 'no', 'no']}\n",
    "labels = ['Chris', 'Matt', 'Joe', 'Mary', 'Maya']\n",
    "\n",
    "df = pd.DataFrame(emp_data , index=labels)\n",
    "print(df.transpose())"
   ]
  },
  {
   "cell_type": "markdown",
   "metadata": {},
   "source": [
    "Write a Python program to create and display a Data Frame\n",
    "from a specified dictionary data which has the index labels."
   ]
  },
  {
   "cell_type": "code",
   "execution_count": 31,
   "metadata": {},
   "outputs": [
    {
     "name": "stdout",
     "output_type": "stream",
     "text": [
      "      desig   Sal  id manager\n",
      "Chris    EM  32.5   1     yes\n",
      "Matt     SE   9.0   3      no\n",
      "Joe      SM  40.5   2     yes\n",
      "Mary    SSE  18.0   8      no\n",
      "Maya     SE  12.0   6      no\n"
     ]
    }
   ],
   "source": [
    "emp_data  = {'desig': ['EM', 'SE', 'SM', 'SSE', 'SE'],\n",
    "        'Sal': [32.5, 9, 40.5, 18, 12],\n",
    "        'id': [1, 3, 2, 8, 6],\n",
    "        'manager': ['yes', 'no', 'yes', 'no', 'no']}\n",
    "labels = ['Chris', 'Matt', 'Joe', 'Mary', 'Maya']\n",
    "\n",
    "df = pd.DataFrame(emp_data , index=labels)\n",
    "print(df)"
   ]
  },
  {
   "cell_type": "markdown",
   "metadata": {},
   "source": [
    "Write a Python program to select the specified columns and\n",
    "rows from a given Data Frame."
   ]
  },
  {
   "cell_type": "code",
   "execution_count": 40,
   "metadata": {},
   "outputs": [
    {
     "name": "stdout",
     "output_type": "stream",
     "text": [
      "desig         EM\n",
      "Sal         32.5\n",
      "id             1\n",
      "manager      yes\n",
      "name       Chris\n",
      "Name: 0, dtype: object\n",
      "0    Chris\n",
      "1     Matt\n",
      "2      Joe\n",
      "3     Mary\n",
      "4     Maya\n",
      "Name: name, dtype: object\n",
      "    Sal  id manager\n",
      "0  32.5   1     yes\n",
      "1   9.0   3      no\n"
     ]
    }
   ],
   "source": [
    "df1=pd.DataFrame(emp_data)\n",
    "df1['name']=labels\n",
    "print (df1.loc[0])\n",
    "print (df1['name'])\n",
    "\n",
    "print (df1.iloc[0:2,1:4])"
   ]
  },
  {
   "cell_type": "markdown",
   "metadata": {},
   "source": [
    "Write a Python program to select the rows the score is between\n",
    "15 and 20 (inclusive)."
   ]
  },
  {
   "cell_type": "code",
   "execution_count": 54,
   "metadata": {},
   "outputs": [
    {
     "data": {
      "text/html": [
       "<div>\n",
       "<style scoped>\n",
       "    .dataframe tbody tr th:only-of-type {\n",
       "        vertical-align: middle;\n",
       "    }\n",
       "\n",
       "    .dataframe tbody tr th {\n",
       "        vertical-align: top;\n",
       "    }\n",
       "\n",
       "    .dataframe thead th {\n",
       "        text-align: right;\n",
       "    }\n",
       "</style>\n",
       "<table border=\"1\" class=\"dataframe\">\n",
       "  <thead>\n",
       "    <tr style=\"text-align: right;\">\n",
       "      <th></th>\n",
       "      <th>name</th>\n",
       "      <th>score</th>\n",
       "      <th>attempts</th>\n",
       "      <th>qualify</th>\n",
       "    </tr>\n",
       "  </thead>\n",
       "  <tbody>\n",
       "    <tr>\n",
       "      <th>c</th>\n",
       "      <td>Katherine</td>\n",
       "      <td>16.5</td>\n",
       "      <td>2</td>\n",
       "      <td>yes</td>\n",
       "    </tr>\n",
       "    <tr>\n",
       "      <th>f</th>\n",
       "      <td>Michael</td>\n",
       "      <td>20.0</td>\n",
       "      <td>3</td>\n",
       "      <td>yes</td>\n",
       "    </tr>\n",
       "    <tr>\n",
       "      <th>j</th>\n",
       "      <td>Jonas</td>\n",
       "      <td>19.0</td>\n",
       "      <td>1</td>\n",
       "      <td>yes</td>\n",
       "    </tr>\n",
       "  </tbody>\n",
       "</table>\n",
       "</div>"
      ],
      "text/plain": [
       "        name  score  attempts qualify\n",
       "c  Katherine   16.5         2     yes\n",
       "f    Michael   20.0         3     yes\n",
       "j      Jonas   19.0         1     yes"
      ]
     },
     "execution_count": 54,
     "metadata": {},
     "output_type": "execute_result"
    }
   ],
   "source": [
    "exam_data = {'name': ['Anastasia', 'Dima', 'Katherine', 'James', 'Emily', 'Michael', 'Matthew', 'Laura', 'Kevin', 'Jonas'],\n",
    "'score': [12.5, 9, 16.5, np.nan, 9, 20, 14.5, np.nan, 8, 19],\n",
    "'attempts': [1, 3, 2, 3, 2, 3, 1, 1, 2, 1],\n",
    "'qualify': ['yes', 'no', 'yes', 'no', 'no', 'yes', 'yes', 'no', 'no', 'yes']}\n",
    "labels = ['a', 'b', 'c', 'd', 'e', 'f', 'g', 'h', 'i', 'j']\n",
    "df_new = pd.DataFrame(exam_data , index=labels)\n",
    "df_new[(df_new.score<=20) & (df_new.score>=15)]"
   ]
  },
  {
   "cell_type": "markdown",
   "metadata": {},
   "source": [
    "Write a Python program to select the rows where number of\n",
    "attempts in the examination is less than 2 and score greater than 15."
   ]
  },
  {
   "cell_type": "code",
   "execution_count": 55,
   "metadata": {},
   "outputs": [
    {
     "data": {
      "text/html": [
       "<div>\n",
       "<style scoped>\n",
       "    .dataframe tbody tr th:only-of-type {\n",
       "        vertical-align: middle;\n",
       "    }\n",
       "\n",
       "    .dataframe tbody tr th {\n",
       "        vertical-align: top;\n",
       "    }\n",
       "\n",
       "    .dataframe thead th {\n",
       "        text-align: right;\n",
       "    }\n",
       "</style>\n",
       "<table border=\"1\" class=\"dataframe\">\n",
       "  <thead>\n",
       "    <tr style=\"text-align: right;\">\n",
       "      <th></th>\n",
       "      <th>name</th>\n",
       "      <th>score</th>\n",
       "      <th>attempts</th>\n",
       "      <th>qualify</th>\n",
       "    </tr>\n",
       "  </thead>\n",
       "  <tbody>\n",
       "    <tr>\n",
       "      <th>j</th>\n",
       "      <td>Jonas</td>\n",
       "      <td>19.0</td>\n",
       "      <td>1</td>\n",
       "      <td>yes</td>\n",
       "    </tr>\n",
       "  </tbody>\n",
       "</table>\n",
       "</div>"
      ],
      "text/plain": [
       "    name  score  attempts qualify\n",
       "j  Jonas   19.0         1     yes"
      ]
     },
     "execution_count": 55,
     "metadata": {},
     "output_type": "execute_result"
    }
   ],
   "source": [
    "df_new[(df_new.attempts<2) & (df_new.score>15)]"
   ]
  },
  {
   "cell_type": "markdown",
   "metadata": {},
   "source": [
    "Write a Python program to append a new row 'k' to Data Frame\n",
    "with given values for each column. Now delete the new row and\n",
    "return the original data frame."
   ]
  },
  {
   "cell_type": "code",
   "execution_count": 57,
   "metadata": {},
   "outputs": [
    {
     "name": "stdout",
     "output_type": "stream",
     "text": [
      "        name  score  attempts qualify\n",
      "a  Anastasia   12.5         1     yes\n",
      "b       Dima    9.0         3      no\n",
      "c  Katherine   16.5         2     yes\n",
      "d      James    NaN         3      no\n",
      "e      Emily    9.0         2      no\n",
      "f    Michael   20.0         3     yes\n",
      "g    Matthew   14.5         1     yes\n",
      "h      Laura    NaN         1      no\n",
      "i      Kevin    8.0         2      no\n",
      "j      Jonas   19.0         1     yes\n",
      "        name   score attempts qualify\n",
      "a  Anastasia    12.5        1     yes\n",
      "b       Dima       9        3      no\n",
      "c  Katherine    16.5        2     yes\n",
      "d      James     NaN        3      no\n",
      "e      Emily       9        2      no\n",
      "f    Michael      20        3     yes\n",
      "g    Matthew    14.5        1     yes\n",
      "h      Laura     NaN        1      no\n",
      "i      Kevin       8        2      no\n",
      "j      Jonas      19        1     yes\n",
      "k          1  Suresh      yes    15.5\n",
      "        name score attempts qualify\n",
      "a  Anastasia  12.5        1     yes\n",
      "b       Dima     9        3      no\n",
      "c  Katherine  16.5        2     yes\n",
      "d      James   NaN        3      no\n",
      "e      Emily     9        2      no\n",
      "f    Michael    20        3     yes\n",
      "g    Matthew  14.5        1     yes\n",
      "h      Laura   NaN        1      no\n",
      "i      Kevin     8        2      no\n",
      "j      Jonas    19        1     yes\n"
     ]
    }
   ],
   "source": [
    "print (df_new)\n",
    "df_new.loc['k'] = [1, 'Suresh', 'yes', 15.5]\n",
    "print (df_new)\n",
    "df_new = df_new.drop('k')\n",
    "print (df_new)"
   ]
  },
  {
   "cell_type": "markdown",
   "metadata": {},
   "source": [
    "Write a Python program to sort the data frame first by 'name' in\n",
    "descending order, then by 'score' in ascending order."
   ]
  },
  {
   "cell_type": "code",
   "execution_count": 58,
   "metadata": {},
   "outputs": [
    {
     "name": "stdout",
     "output_type": "stream",
     "text": [
      "        name score attempts qualify\n",
      "f    Michael    20        3     yes\n",
      "g    Matthew  14.5        1     yes\n",
      "h      Laura   NaN        1      no\n",
      "i      Kevin     8        2      no\n",
      "c  Katherine  16.5        2     yes\n",
      "j      Jonas    19        1     yes\n",
      "d      James   NaN        3      no\n",
      "e      Emily     9        2      no\n",
      "b       Dima     9        3      no\n",
      "a  Anastasia  12.5        1     yes\n"
     ]
    }
   ],
   "source": [
    "df_sorted=df_new.sort_values(by=['name', 'score'], ascending=[False, True])\n",
    "print (df_sorted)"
   ]
  },
  {
   "cell_type": "markdown",
   "metadata": {},
   "source": [
    "Write a Python program to insert a new column in existing Data\n",
    "Frame."
   ]
  },
  {
   "cell_type": "code",
   "execution_count": 59,
   "metadata": {},
   "outputs": [
    {
     "name": "stdout",
     "output_type": "stream",
     "text": [
      "        name score attempts qualify Origin\n",
      "a  Anastasia  12.5        1     yes     US\n",
      "b       Dima     9        3      no     US\n",
      "c  Katherine  16.5        2     yes    AUS\n",
      "d      James   NaN        3      no     UK\n",
      "e      Emily     9        2      no    CAN\n",
      "f    Michael    20        3     yes    ITA\n",
      "g    Matthew  14.5        1     yes     UK\n",
      "h      Laura   NaN        1      no    AUS\n",
      "i      Kevin     8        2      no    SGP\n",
      "j      Jonas    19        1     yes    SGP\n"
     ]
    }
   ],
   "source": [
    "df_new['Origin']=['US','US','AUS','UK','CAN','ITA','UK','AUS','SGP','SGP']\n",
    "print (df_new)"
   ]
  },
  {
   "cell_type": "markdown",
   "metadata": {},
   "source": [
    "Write a Python program to change the name 'James' to 'Suresh'\n",
    "in name column of the data frame."
   ]
  },
  {
   "cell_type": "code",
   "execution_count": 63,
   "metadata": {},
   "outputs": [],
   "source": [
    "df_new['name']=df_new.name.replace('James','Suresh')"
   ]
  },
  {
   "cell_type": "code",
   "execution_count": 64,
   "metadata": {},
   "outputs": [
    {
     "name": "stdout",
     "output_type": "stream",
     "text": [
      "        name score attempts qualify Origin\n",
      "a  Anastasia  12.5        1     yes     US\n",
      "b       Dima     9        3      no     US\n",
      "c  Katherine  16.5        2     yes    AUS\n",
      "d     Suresh   NaN        3      no     UK\n",
      "e      Emily     9        2      no    CAN\n",
      "f    Michael    20        3     yes    ITA\n",
      "g    Matthew  14.5        1     yes     UK\n",
      "h      Laura   NaN        1      no    AUS\n",
      "i      Kevin     8        2      no    SGP\n",
      "j      Jonas    19        1     yes    SGP\n"
     ]
    }
   ],
   "source": [
    "print (df_new)"
   ]
  }
 ],
 "metadata": {
  "kernelspec": {
   "display_name": "Python 3",
   "language": "python",
   "name": "python3"
  },
  "language_info": {
   "codemirror_mode": {
    "name": "ipython",
    "version": 3
   },
   "file_extension": ".py",
   "mimetype": "text/x-python",
   "name": "python",
   "nbconvert_exporter": "python",
   "pygments_lexer": "ipython3",
   "version": "3.7.6"
  }
 },
 "nbformat": 4,
 "nbformat_minor": 4
}
