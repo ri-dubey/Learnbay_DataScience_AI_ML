{
 "cells": [
  {
   "cell_type": "code",
   "execution_count": 6,
   "metadata": {},
   "outputs": [],
   "source": [
    "import pandas as pd\n",
    "import numpy as np\n",
    "import seaborn as sns\n",
    "import matplotlib.pyplot as plt"
   ]
  },
  {
   "cell_type": "markdown",
   "metadata": {},
   "source": [
    "# 1. Determine the central tendency of the below Population:\n",
    "### -993, -23,18,-2,-6,98,45,32,-45,843,1024,-256"
   ]
  },
  {
   "cell_type": "code",
   "execution_count": 15,
   "metadata": {},
   "outputs": [
    {
     "name": "stdout",
     "output_type": "stream",
     "text": [
      "-------Mean-----------\n",
      "0    61.25\n",
      "dtype: float64\n",
      "-------Median-----------\n",
      "0    8.0\n",
      "dtype: float64\n",
      "-------Mode----------\n",
      "       0\n",
      "0   -993\n",
      "1   -256\n",
      "2    -45\n",
      "3    -23\n",
      "4     -6\n",
      "5     -2\n",
      "6     18\n",
      "7     32\n",
      "8     45\n",
      "9     98\n",
      "10   843\n",
      "11  1024\n"
     ]
    }
   ],
   "source": [
    "df=pd.DataFrame([-993, -23,18,-2,-6,98,45,32,-45,843,1024,-256])\n",
    "print (\"-------Mean-----------\")\n",
    "print (df.mean())\n",
    "print (\"-------Median-----------\")\n",
    "print (df.median())\n",
    "print (\"-------Mode----------\")\n",
    "print (df.mode())"
   ]
  },
  {
   "cell_type": "markdown",
   "metadata": {},
   "source": [
    "# 2. Calculate the Standard Deviation and Variance of the below sample :\n",
    "### -99, -2,18,-23,-61,1,982,45,32,-45"
   ]
  },
  {
   "cell_type": "code",
   "execution_count": 16,
   "metadata": {},
   "outputs": [
    {
     "name": "stdout",
     "output_type": "stream",
     "text": [
      "-----------Standard Deviation------------\n",
      "318.30586268905296\n",
      "-----------Variance------------\n",
      "101318.62222222223\n"
     ]
    }
   ],
   "source": [
    "import statistics as st\n",
    "sample=[-99, -2,18,-23,-61,1,982,45,32,-45]\n",
    "print (\"-----------Standard Deviation------------\")\n",
    "print (st.stdev(sample))\n",
    "print (\"-----------Variance------------\")\n",
    "print (st.variance(sample))"
   ]
  },
  {
   "cell_type": "markdown",
   "metadata": {},
   "source": [
    "# 3. You have 8 numbers. The mean is 6. You add 5 to each number in the group. What is the new mean?"
   ]
  },
  {
   "cell_type": "code",
   "execution_count": 17,
   "metadata": {},
   "outputs": [
    {
     "name": "stdout",
     "output_type": "stream",
     "text": [
      "---------New Mean-----------\n",
      "11.0\n"
     ]
    }
   ],
   "source": [
    "# Adding the same constant to each number increases the mean by same constannt so new mean will be 6+5 = 11\n",
    "old_mean=6\n",
    "total_n=8\n",
    "old_sum=old_mean*total_n\n",
    "new_sum=old_sum+(5*total_n)\n",
    "new_mean=(new_sum/total_n)\n",
    "print (\"---------New Mean-----------\")\n",
    "print (new_mean)"
   ]
  },
  {
   "cell_type": "markdown",
   "metadata": {},
   "source": [
    "# 4. You have 15 numbers. The mean is 10, and the variance is 4. You multiply each number by 3. What is the new standard deviation?"
   ]
  },
  {
   "cell_type": "code",
   "execution_count": 25,
   "metadata": {},
   "outputs": [
    {
     "name": "stdout",
     "output_type": "stream",
     "text": [
      "---------New Std Dev-----------\n",
      "6.0\n"
     ]
    }
   ],
   "source": [
    "import math\n",
    "var=4\n",
    "std_dev=math.sqrt(var)\n",
    "#multiplying each number with the same constant also increases the std dev by same constant times\n",
    "new_std_dev =std_dev * 3\n",
    "print (\"---------New Std Dev-----------\")\n",
    "print (new_std_dev)"
   ]
  },
  {
   "cell_type": "markdown",
   "metadata": {},
   "source": [
    "# 5.Temperature of 5 cities are given, from the given values, what would be the mean and standard deviation of temperature in Celsius?\n",
    "\n",
    "## City Degrees Fahrenheit\n",
    "### Delhi 82\n",
    "### Bangalore 77\n",
    "### Coorg 41\n",
    "### Coimbatore 78\n",
    "### Chennai 84"
   ]
  },
  {
   "cell_type": "code",
   "execution_count": 23,
   "metadata": {},
   "outputs": [
    {
     "name": "stdout",
     "output_type": "stream",
     "text": [
      "-----Mean Temparature in Degree Celsius---------\n",
      "22.48\n",
      "-----Std Dev Temparature in Degree Celsius---------\n",
      "-7.89\n"
     ]
    }
   ],
   "source": [
    "df=pd.DataFrame({'City':['Delhi','Bangalore','Coorg','Coimbatore','Chennai'],'Degrees_Farenheit':[82,77,41,78,84]})\n",
    "print (\"-----Mean Temparature in Degree Celsius---------\")\n",
    "print (round(0.556*df.Degrees_Farenheit.mean() - 17.778,2))\n",
    "print (\"-----Std Dev Temparature in Degree Celsius---------\")\n",
    "print (round(0.556*st.stdev(df.Degrees_Farenheit) - 17.778,2))"
   ]
  },
  {
   "cell_type": "markdown",
   "metadata": {},
   "source": [
    "# 6. Construct a boxplot for the following data set.\n",
    "### 3, 5, 8, 8, 9, 11, 12, 12, 13, 13, 163,5,8,8,9,11,12,12,13,13,16"
   ]
  },
  {
   "cell_type": "code",
   "execution_count": 42,
   "metadata": {},
   "outputs": [
    {
     "data": {
      "image/png": "[encoded data removed]",
      "text/plain": [
       "<Figure size 720x504 with 1 Axes>"
      ]
     },
     "metadata": {
      "needs_background": "light"
     },
     "output_type": "display_data"
    }
   ],
   "source": [
    "data_samp=[3, 5, 8, 8, 9, 11, 12, 12, 13, 13, 163,5,8,8,9,11,12,12,13,13,1]\n",
    "fig = plt.figure(figsize =(10, 7))\n",
    "plt.boxplot(data_samp,vert=0)\n",
    "plt.show()"
   ]
  },
  {
   "cell_type": "markdown",
   "metadata": {},
   "source": []
  },
  {
   "cell_type": "markdown",
   "metadata": {},
   "source": [
    "# 7. Consider below dataset, calculate the skewness and then tell if it is left skewed or right skewed?\n",
    "### 12, 13, 54, 56 , 25"
   ]
  },
  {
   "cell_type": "code",
   "execution_count": 46,
   "metadata": {},
   "outputs": [
    {
     "data": {
      "image/png": "[encoded data removed]",
      "text/plain": [
       "<Figure size 432x288 with 1 Axes>"
      ]
     },
     "metadata": {
      "needs_background": "light"
     },
     "output_type": "display_data"
    },
    {
     "name": "stdout",
     "output_type": "stream",
     "text": [
      "0.2563317051472635\n",
      "--------\n",
      "Left Skewed\n"
     ]
    }
   ],
   "source": [
    "from scipy.stats import skew\n",
    "samp_data=[12, 13, 54, 56 , 25]\n",
    "sns.distplot(samp_data,hist=False)\n",
    "plt.show()\n",
    "skew_val=skew(samp_data)\n",
    "print (skew_val)\n",
    "print (\"--------\")\n",
    "if skew_val>0 :\n",
    "    print (\"Left Skewed\")\n",
    "elif skew_val<0:\n",
    "    print (\"Right Skewed\")\n",
    "else:\n",
    "    print (\"Not Skewed\")"
   ]
  },
  {
   "cell_type": "markdown",
   "metadata": {},
   "source": [
    "# 8. Determine the excess-kurtosis of the below dataset and then categorize it according to the type of kurtosis it is and give its characteristics.\n",
    "### 12, 13, 54, 56 , 25"
   ]
  },
  {
   "cell_type": "code",
   "execution_count": 48,
   "metadata": {},
   "outputs": [
    {
     "data": {
      "image/png": "[encoded data removed]",
      "text/plain": [
       "<Figure size 432x288 with 1 Axes>"
      ]
     },
     "metadata": {
      "needs_background": "light"
     },
     "output_type": "display_data"
    },
    {
     "name": "stdout",
     "output_type": "stream",
     "text": [
      "excess_kurtosis value:  -1.7721210214761647\n"
     ]
    }
   ],
   "source": [
    "from scipy.stats import kurtosis\n",
    "samp_data=[12, 13, 54, 56 , 25]\n",
    "sns.distplot(samp_data,hist=False)\n",
    "plt.show()\n",
    "excess_kurtosis=kurtosis(samp_data)\n",
    "print (\"excess_kurtosis value: \",excess_kurtosis)\n",
    "#it has negative eaxcess kurtosis means it is platykurtic which implies it has fewer and less extreme outliers"
   ]
  },
  {
   "cell_type": "markdown",
   "metadata": {},
   "source": [
    "# 9. Determine the outliers in the below dataset using IQR formula.\n",
    "### 1, 99, 100, 101, 103, 109, 110, 201"
   ]
  },
  {
   "cell_type": "code",
   "execution_count": 53,
   "metadata": {},
   "outputs": [
    {
     "name": "stdout",
     "output_type": "stream",
     "text": [
      "IQR : 10.0\n",
      "lower_linit : 84.5\n",
      "upper_limit  124.5\n",
      "----- outliers--------\n",
      "[1, 201]\n"
     ]
    },
    {
     "data": {
      "image/png": "[encoded data removed]",
      "text/plain": [
       "<Figure size 720x504 with 1 Axes>"
      ]
     },
     "metadata": {
      "needs_background": "light"
     },
     "output_type": "display_data"
    }
   ],
   "source": [
    "#data is already sorted so skipping the sorting step\n",
    "data=[1, 99, 100, 101, 103, 109, 110, 201]\n",
    "#Calculate Q1, Q2, Q3 and IQR.\n",
    "Q1 = np.percentile(data, 25, interpolation = 'midpoint')  \n",
    "Q2 = np.percentile(data, 50, interpolation = 'midpoint')  \n",
    "Q3 = np.percentile(data, 75, interpolation = 'midpoint') \n",
    "IQR = Q3 - Q1\n",
    "print (\"IQR :\",IQR)\n",
    "lower_limit = Q1 - 1.5 * IQR \n",
    "print (\"lower_linit :\",lower_limit)\n",
    "upper_limit = Q3 + 1.5 * IQR \n",
    "print (\"upper_limit \",upper_limit)\n",
    "outliers=[]\n",
    "for i in data: \n",
    "    if ((i> upper_limit) or (i<lower_limit)): \n",
    "         outliers.append(i) \n",
    "print('----- outliers--------')\n",
    "print (outliers)\n",
    "fig = plt.figure(figsize =(10, 7))\n",
    "plt.boxplot(data,vert=0)\n",
    "plt.show()"
   ]
  },
  {
   "cell_type": "markdown",
   "metadata": {},
   "source": [
    "# 10. Determine the outlier in the below dataset using Z-score.\n",
    "\n",
    "### 1.5895, 1.6508, 1.7131, 1.7136,1.7212, 1.7296, 1.7343, 1.7663, 1.8018, 1.8394, 1.8869, 1.9357, 1.9482, 2.1038, 10.8135, -0.0012"
   ]
  },
  {
   "cell_type": "code",
   "execution_count": 59,
   "metadata": {},
   "outputs": [
    {
     "name": "stdout",
     "output_type": "stream",
     "text": [
      "mean:  2.24665625\n",
      "std. dev:  2.2574246861658396\n",
      "Data Point:  1.5895   Z-Score:  -0.29110882592329496\n",
      "Data Point:  1.6508   Z-Score:  -0.2639539886542314\n",
      "Data Point:  1.7131   Z-Score:  -0.23635616872172485\n",
      "Data Point:  1.7136   Z-Score:  -0.23613467739000332\n",
      "Data Point:  1.7212   Z-Score:  -0.23276800914783555\n",
      "Data Point:  1.7296   Z-Score:  -0.22904695477491335\n",
      "Data Point:  1.7343   Z-Score:  -0.2269649362567307\n",
      "Data Point:  1.7663   Z-Score:  -0.21278949102655073\n",
      "Data Point:  1.8018   Z-Score:  -0.19706360647431984\n",
      "Data Point:  1.8394   Z-Score:  -0.18040745832885846\n",
      "Data Point:  1.8869   Z-Score:  -0.15936578181531008\n",
      "Data Point:  1.9357   Z-Score:  -0.13774822783928567\n",
      "Data Point:  1.9482   Z-Score:  -0.13221094454624666\n",
      "Data Point:  2.1038   Z-Score:  -0.06328284211449663\n",
      "Data Point:  10.8135   Z-Score:  3.7949632616760733\n",
      "Data Point:  -0.0012   Z-Score:  -0.9957613486622708\n",
      "--------outliers-----------\n",
      "[10.8135]\n"
     ]
    }
   ],
   "source": [
    "data=[1.5895, 1.6508, 1.7131, 1.7136,1.7212, 1.7296, 1.7343, 1.7663, 1.8018, 1.8394, 1.8869, 1.9357, 1.9482, 2.1038, 10.8135, -0.0012]\n",
    "mean = np.mean(data) \n",
    "std = np.std(data) \n",
    "print('mean: ', mean) \n",
    "print('std. dev: ', std) \n",
    "thres = 3\n",
    "outliers = [] \n",
    "for i in data: \n",
    "    z = (i-mean)/std \n",
    "    print (\"Data Point: \",i,\"  Z-Score: \",z)\n",
    "    if z > thres: \n",
    "        outliers.append(i) \n",
    "print('--------outliers-----------')\n",
    "print (outliers)"
   ]
  },
  {
   "cell_type": "markdown",
   "metadata": {},
   "source": [
    "# 11. Below is the mark obtained by some students. Construct a bar chart for it:\n",
    "## Student Marks\n",
    "### Rohan 83\n",
    "### Bhavya 72\n",
    "### Sri 96\n",
    "### Riteish 37\n",
    "### Neha 64"
   ]
  },
  {
   "cell_type": "code",
   "execution_count": 65,
   "metadata": {},
   "outputs": [
    {
     "data": {
      "text/plain": [
       "Text(0, 0.5, 'Marks Scored')"
      ]
     },
     "execution_count": 65,
     "metadata": {},
     "output_type": "execute_result"
    },
    {
     "data": {
      "image/png": "[encoded data removed]",
      "text/plain": [
       "<Figure size 432x288 with 1 Axes>"
      ]
     },
     "metadata": {
      "needs_background": "light"
     },
     "output_type": "display_data"
    }
   ],
   "source": [
    "df=pd.DataFrame({'Student':['Rohan','Bhavya','Sri','Ritesh','Neha'],'Marks':[83,72,96,37,64]})\n",
    "\n",
    "fig = plt.figure()\n",
    "ax = fig.add_axes([0,0,1,1])\n",
    "ax.bar(df['Student'],df['Marks'])\n",
    "ax.set_xlabel(\"Name of Student\")\n",
    "ax.set_ylabel(\"Marks Scored\")"
   ]
  },
  {
   "cell_type": "markdown",
   "metadata": {},
   "source": [
    "# 12. Below are some observations obtained from a hospital and shows glucose level of some patients. Check the correlation of the variables and then tell if it has positive, negative or no relation between them. Calculate co-variance and also plot a scatterplot to see the relation visually.\n",
    "\n",
    "### Patient    Age(years)   Glucose Level\n",
    "#### A    46    99\n",
    "#### B    24    65\n",
    "#### C    28    78\n",
    "#### D    42    79\n",
    "#### E    59    89\n",
    "#### F    48    82"
   ]
  },
  {
   "cell_type": "code",
   "execution_count": 73,
   "metadata": {},
   "outputs": [
    {
     "name": "stdout",
     "output_type": "stream",
     "text": [
      "               Age(years)  Glucose_Level\n",
      "Age(years)       1.000000       0.734514\n",
      "Glucose_Level    0.734514       1.000000\n",
      "covariance value between Age and Glucose Level:  109.80000000000001\n"
     ]
    },
    {
     "data": {
      "text/plain": [
       "array([[171.36666667, 109.8       ],\n",
       "       [109.8       , 130.4       ]])"
      ]
     },
     "execution_count": 73,
     "metadata": {},
     "output_type": "execute_result"
    },
    {
     "data": {
      "image/png": "[encoded data removed]",
      "text/plain": [
       "<Figure size 432x288 with 1 Axes>"
      ]
     },
     "metadata": {
      "needs_background": "light"
     },
     "output_type": "display_data"
    }
   ],
   "source": [
    "df=pd.DataFrame({'Patient':['A','B','C','D','E','F'],'Age(years)':[46,24,28,42,59,48],'Glucose_Level':[99,65,78,79,89,82]})\n",
    "print (df.corr())\n",
    "covariance_val=np.cov(df['Age(years)'],df['Glucose_Level'])\n",
    "print (\"covariance value between Age and Glucose Level: \",covariance_val[0,1])\n",
    "sns.scatterplot(df['Age(years)'],df['Glucose_Level'])\n",
    "\n",
    "#From the scatter plot, covariance value and correlation_matrix it is evident that Age and Glucose have positive correlation as Age increases so soes glucose Level"
   ]
  },
  {
   "cell_type": "markdown",
   "metadata": {},
   "source": [
    "# 13. Try to find out if there is any correlation between Physical Activity and Blood Pressure. Calculate Spearman Rank Correlation.\n",
    "<img src=\"../Desktop/Screenshot 2020-08-28 at 2.35.19 PM.png\">"
   ]
  },
  {
   "cell_type": "code",
   "execution_count": 78,
   "metadata": {},
   "outputs": [
    {
     "name": "stdout",
     "output_type": "stream",
     "text": [
      "                   Physical_activity  Blood_pressure\n",
      "Physical_activity           1.000000       -0.744475\n",
      "Blood_pressure             -0.744475        1.000000\n",
      "Spearman's covariance val:  -0.7575757575757575\n"
     ]
    },
    {
     "data": {
      "image/png": "[encoded data removed]",
      "text/plain": [
       "<Figure size 432x288 with 1 Axes>"
      ]
     },
     "metadata": {
      "needs_background": "light"
     },
     "output_type": "display_data"
    }
   ],
   "source": [
    "from scipy.stats import spearmanr\n",
    "df=pd.DataFrame({'Name':['Alan','Carl','David','Don','John','Matt','Mike','Neal','Rick','Rob'],'Physical_activity':[60,55,25,50,40,45,35,10,30,20],'Blood_pressure':[118,117,120,121,119,122,123,124,125,126]})\n",
    "print (df.corr())\n",
    "sns.scatterplot(df['Physical_activity'],df['Blood_pressure'])\n",
    "corr, _ = spearmanr(df['Physical_activity'],df['Blood_pressure'])\n",
    "print (\"Spearman's covariance val: \",corr)\n",
    "\n",
    "# from the Spearman's correlation value and scatter plot it is eveident that physical activity and blood pressure are negatively correlated with increase in physical activity there is decrease in blood pressure"
   ]
  }
 ],
 "metadata": {
  "kernelspec": {
   "display_name": "Python 3",
   "language": "python",
   "name": "python3"
  },
  "language_info": {
   "codemirror_mode": {
    "name": "ipython",
    "version": 3
   },
   "file_extension": ".py",
   "mimetype": "text/x-python",
   "name": "python",
   "nbconvert_exporter": "python",
   "pygments_lexer": "ipython3",
   "version": "3.7.6"
  }
 },
 "nbformat": 4,
 "nbformat_minor": 4
}
